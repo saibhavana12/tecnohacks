{
  "nbformat": 4,
  "nbformat_minor": 0,
  "metadata": {
    "colab": {
      "provenance": [],
      "authorship_tag": "ABX9TyOZhCVg8M/9TacPJUH7q0n5",
      "include_colab_link": true
    },
    "kernelspec": {
      "name": "python3",
      "display_name": "Python 3"
    },
    "language_info": {
      "name": "python"
    }
  },
  "cells": [
    {
      "cell_type": "markdown",
      "metadata": {
        "id": "view-in-github",
        "colab_type": "text"
      },
      "source": [
        "<a href=\"https://colab.research.google.com/github/saibhavana12/tecnohacks/blob/main/password_generator.ipynb\" target=\"_parent\"><img src=\"https://colab.research.google.com/assets/colab-badge.svg\" alt=\"Open In Colab\"/></a>"
      ]
    },
    {
      "cell_type": "code",
      "execution_count": null,
      "metadata": {
        "colab": {
          "base_uri": "https://localhost:8080/"
        },
        "id": "EwGugMbh9FY-",
        "outputId": "33e8ff2c-82f8-4084-f466-dcc0b7c12c68"
      },
      "outputs": [
        {
          "output_type": "stream",
          "name": "stdout",
          "text": [
            "Random password is: &6o16zs*\n",
            "Enter the number of characters in your password8\n",
            "Enter the number of numbers in your password2\n",
            "Enter the number of symbols in your password3\n",
            "The randomly generated password is:  Rx#3Xb*!Yl5qd\n"
          ]
        }
      ],
      "source": [
        "import random\n",
        "import string\n",
        "chars=string.ascii_letters+string.digits+string.punctuation\n",
        "password=''.join(random.choice(chars)for i in range(8))\n",
        "print(\"Random password is:\",password)\n",
        "\n",
        "\n",
        "\n",
        "def password_gen(char_length,num_length,symbol_length):\n",
        "  c=\"abcdefghijklmnopqrstuvwxyzABCDEFGHIJKLMNOPQRSTUVWXYZ\"\n",
        "  nums=\"0123456789\"\n",
        "  symbols=\"!@#$%^&*()\"\n",
        "\n",
        "  selectedchars=random.sample(c,char_length)\n",
        "  selectednums=random.sample(nums,num_length)\n",
        "  selectedsymbols=random.sample(symbols,symbol_length)\n",
        "\n",
        "  password_list=selectedchars+selectednums+selectedsymbols\n",
        "\n",
        "  random.shuffle(password_list)\n",
        "  password_str=''.join(password_list)\n",
        "  return password_str\n",
        "char_length=int(input(\"Enter the number of characters in your password\"))\n",
        "num_length=int(input(\"Enter the number of numbers in your password\"))\n",
        "symbol_length=int(input(\"Enter the number of symbols in your password\"))\n",
        "password=password_gen(char_length,num_length,symbol_length)\n",
        "print(\"The randomly generated password is: \",password)"
      ]
    }
  ]
}